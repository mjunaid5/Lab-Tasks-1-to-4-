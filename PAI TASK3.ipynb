{
 "cells": [
  {
   "cell_type": "code",
   "execution_count": 1,
   "id": "5403d885-7b0a-4922-b776-63ca6f379086",
   "metadata": {},
   "outputs": [
    {
     "name": "stdout",
     "output_type": "stream",
     "text": [
      "Solution Path: [(0, 0), (0, 3), (3, 0), (3, 3), (4, 2)]\n"
     ]
    },
    {
     "data": {
      "text/plain": [
       "[(0, 0), (0, 3), (3, 0), (3, 3), (4, 2)]"
      ]
     },
     "execution_count": 1,
     "metadata": {},
     "output_type": "execute_result"
    }
   ],
   "source": [
    "from collections import deque\n",
    "\n",
    "def is_valid(state, capacity):\n",
    "    return 0 <= state[0] <= capacity[0] and 0 <= state[1] <= capacity[1]\n",
    "\n",
    "def water_jug_dfs(capacity, target):\n",
    "    stack = deque()\n",
    "    visited = set()\n",
    "    stack.append((0, 0, []))  # (jug1, jug2, path)\n",
    "    \n",
    "    while stack:\n",
    "        jug1, jug2, path = stack.pop()\n",
    "        \n",
    "        if (jug1, jug2) in visited:\n",
    "            continue\n",
    "        visited.add((jug1, jug2))\n",
    "        path.append((jug1, jug2))\n",
    "        \n",
    "        if jug1 == target or jug2 == target:\n",
    "            print(\"Solution Path:\", path)\n",
    "            return path\n",
    "        \n",
    "        \n",
    "        moves = [\n",
    "            (capacity[0], jug2), \n",
    "            (jug1, capacity[1]),  \n",
    "            (0, jug2),            \n",
    "            (jug1, 0),            \n",
    "            (jug1 - min(jug1, capacity[1] - jug2), jug2 + min(jug1, capacity[1] - jug2)),  \n",
    "            (jug1 + min(jug2, capacity[0] - jug1), jug2 - min(jug2, capacity[0] - jug1))   \n",
    "        ]\n",
    "        \n",
    "        for new_state in moves:\n",
    "            if is_valid(new_state, capacity) and new_state not in visited:\n",
    "                stack.append((new_state[0], new_state[1], path.copy()))\n",
    "    \n",
    "    print(\"No solution found\")\n",
    "    return None\n",
    "\n",
    "capacity = (4, 3)  \n",
    "target = 2  \n",
    "water_jug_dfs(capacity, target)\n"
   ]
  },
  {
   "cell_type": "code",
   "execution_count": null,
   "id": "88dc81d4-fd5a-4144-8c84-adf0959cd9a1",
   "metadata": {},
   "outputs": [],
   "source": []
  }
 ],
 "metadata": {
  "kernelspec": {
   "display_name": "Python 3 (ipykernel)",
   "language": "python",
   "name": "python3"
  },
  "language_info": {
   "codemirror_mode": {
    "name": "ipython",
    "version": 3
   },
   "file_extension": ".py",
   "mimetype": "text/x-python",
   "name": "python",
   "nbconvert_exporter": "python",
   "pygments_lexer": "ipython3",
   "version": "3.12.4"
  }
 },
 "nbformat": 4,
 "nbformat_minor": 5
}
